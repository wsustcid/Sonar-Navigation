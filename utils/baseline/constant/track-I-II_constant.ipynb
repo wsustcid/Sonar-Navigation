{
 "cells": [
  {
   "cell_type": "markdown",
   "metadata": {},
   "source": [
    "# 1. Dataset"
   ]
  },
  {
   "cell_type": "markdown",
   "metadata": {},
   "source": [
    "## 1.1 Loading data"
   ]
  },
  {
   "cell_type": "code",
   "execution_count": 1,
   "metadata": {},
   "outputs": [],
   "source": [
    "import csv\n",
    "from math import sqrt\n",
    "import numpy as np\n",
    "from sklearn.utils import shuffle\n",
    "\n",
    "class UltrasonicData:\n",
    "    \"\"\" A custom data type: the data member is composed with\n",
    "    - the distances from the car to the surrounding wall at one or \n",
    "      multiple sample time\n",
    "    - and corresponding control commands of the angular velocity.\n",
    "    \"\"\"\n",
    "    def __init__(self, distance, angular):\n",
    "        self.distance = distance\n",
    "        self.angular  = angular\n",
    "        \n",
    "        \n",
    "def csv_read(csv_path, length):\n",
    "    \"\"\" Reading ultrasonic data from csv file\n",
    "    \n",
    "    input: \n",
    "     - csv_path: the path of the csv file\n",
    "     - length: the length of time sequence used in the training samples\n",
    "     - dim: the dimensions of the distance array \n",
    "    output: \n",
    "     - Return a data list which is represented in UltrasonicData \n",
    "       data type.\n",
    "    \"\"\"\n",
    "    \n",
    "    print(\"Reading data from %s\" % csv_path)\n",
    "    print(\"The length of time sequence in this file is %d\" % length)\n",
    "        \n",
    "    # save time-independent sample and corresponding label with\n",
    "    # UltrasonicData type\n",
    "    Data = []\n",
    "    \n",
    "    with open(csv_path, 'r') as f:\n",
    "        f_reader = csv.reader(f)\n",
    "        for line in f_reader:\n",
    "            # a list which saves time-dependent distance data\n",
    "            dist = [float(line[j+i*18]) for i in range(length) for j in range(16)]\n",
    "            # use the newest command as label\n",
    "            agl  = float(line[17+(length-1)*18])\n",
    "            #[float(line[17+i*18]) for i in range(length)]\n",
    "            Data.append(UltrasonicData(dist, agl))\n",
    "    \n",
    "    print(\"Now {} data have been saved with custom data type\".format(len(Data)))\n",
    "    \n",
    "    return shuffle(Data)\n",
    "\n",
    "def data_generator(Data, batch_size, dim=2, shape=(16,16)):\n",
    "    \"\"\" A python data generator\n",
    "    input: \n",
    "    - Data: a list in which data is saved with custom data type\n",
    "    - batch_size: the size of data batch we want to return\n",
    "    - dim: the dimensions of data used for training or validation\n",
    "    - shape: data repeat operation will be done according to this\n",
    "             parameter.\n",
    "    return：\n",
    "    - yeild a batch of samples and lebel when it is called\n",
    "    \"\"\"\n",
    "    height, width = shape\n",
    "    while True:\n",
    "        data_batch = np.random.choice(a=Data, size=batch_size)\n",
    "        X = []\n",
    "        Y = []\n",
    "    \n",
    "        for i in range(len(data_batch)):\n",
    "            data = data_batch[i]\n",
    "            if dim == 1:\n",
    "                dist = data.distance\n",
    "            elif dim == 2:\n",
    "                dist = np.array(data.distance)\n",
    "                # reshape\n",
    "                dist = dist.reshape(-1,16)\n",
    "                \n",
    "                # repeat coloums and rows according to desired width\n",
    "                dist = dist.repeat(width//16, axis=0)\n",
    "                dist = dist.repeat(width//16, axis=1)\n",
    "                \n",
    "                # add channel axis for the gray scale image\n",
    "                dist = dist[np.newaxis, :,:]\n",
    "                \n",
    "            else:\n",
    "                pass\n",
    "            \n",
    "            # add batch axis\n",
    "            X.append(dist)\n",
    "            Y.append(data.angular)\n",
    "        \n",
    "        X = np.array(X)\n",
    "        Y = np.array(Y)\n",
    "        \n",
    "        yield X, Y"
   ]
  },
  {
   "cell_type": "markdown",
   "metadata": {},
   "source": [
    "## 1.2 Loading Test"
   ]
  },
  {
   "cell_type": "code",
   "execution_count": 2,
   "metadata": {},
   "outputs": [
    {
     "name": "stdout",
     "output_type": "stream",
     "text": [
      "Reading data from /media/ubuntu16/Documents/datasets/SonarSet/SIM/Track-I-II/2019-07-03-1.csv\n",
      "The length of time sequence in this file is 1\n",
      "Now 45422 data have been saved with custom data type\n",
      "(128, 16) (128,)\n",
      "\n",
      "Reading data from /media/ubuntu16/Documents/datasets/SonarSet/SIM/Track-I-II/2019-07-03-16.csv\n",
      "The length of time sequence in this file is 16\n",
      "Now 45299 data have been saved with custom data type\n",
      "(128, 256) (128,)\n",
      "\n",
      "Reading data from /media/ubuntu16/Documents/datasets/SonarSet/SIM/Track-I-II/2019-07-03-32.csv\n",
      "The length of time sequence in this file is 32\n",
      "Now 45198 data have been saved with custom data type\n",
      "(128, 512) (128,)\n",
      "\n",
      "Reading data from /media/ubuntu16/Documents/datasets/SonarSet/SIM/Track-I-II/2019-07-03-48.csv\n",
      "The length of time sequence in this file is 48\n",
      "Now 45078 data have been saved with custom data type\n",
      "(128, 768) (128,)\n",
      "\n",
      "Reading data from /media/ubuntu16/Documents/datasets/SonarSet/SIM/Track-I-II/2019-07-03-1.csv\n",
      "The length of time sequence in this file is 1\n",
      "Now 45422 data have been saved with custom data type\n",
      "(128, 1, 1, 16) (128,)\n",
      "\n",
      "Reading data from /media/ubuntu16/Documents/datasets/SonarSet/SIM/Track-I-II/2019-07-03-16.csv\n",
      "The length of time sequence in this file is 16\n",
      "Now 45299 data have been saved with custom data type\n",
      "(128, 1, 16, 16) (128,)\n",
      "\n",
      "Reading data from /media/ubuntu16/Documents/datasets/SonarSet/SIM/Track-I-II/2019-07-03-32.csv\n",
      "The length of time sequence in this file is 32\n",
      "Now 45198 data have been saved with custom data type\n",
      "(128, 1, 32, 16) (128,)\n",
      "\n",
      "Reading data from /media/ubuntu16/Documents/datasets/SonarSet/SIM/Track-I-II/2019-07-03-48.csv\n",
      "The length of time sequence in this file is 48\n",
      "Now 45078 data have been saved with custom data type\n",
      "(128, 1, 48, 16) (128,)\n",
      "\n"
     ]
    }
   ],
   "source": [
    "\"\"\"\n",
    "TESTING DATA LOADING FUNCTION\n",
    "\"\"\"\n",
    "from itertools import product\n",
    "\n",
    "data_path  = \"/media/ubuntu16/Documents/datasets/Sonar/SIM/Track-I-II/\"\n",
    "filename = \"2019-07-03-\"\n",
    "\n",
    "batch_size = 128\n",
    "dims = [1,2]\n",
    "lengths = [1,16,32,48]\n",
    "\n",
    "for dim, length in product(dims,lengths):\n",
    "    csv_path = data_path + filename + str(length) + '.csv'\n",
    "    dataset = csv_read(csv_path=csv_path, length=length)\n",
    "    \n",
    "    # load data through generator\n",
    "    training_set = data_generator(dataset, \n",
    "                                  batch_size=batch_size, \n",
    "                                  dim=dim, \n",
    "                                  shape=(None,16))\n",
    "    \n",
    "    x,y = next(training_set)\n",
    "    print x.shape, y.shape\n",
    "    print "
   ]
  },
  {
   "cell_type": "markdown",
   "metadata": {},
   "source": [
    "# 2. Baseline\n",
    "## 2.1 Constant Baseline\n",
    "In this section, we use 0 as a constant prediction to compute the mse, rmse, mae, r-square, adjusted r-square of the ultrasonic datasets.\n",
    "- Reading all labels from csv file.\n",
    "- compute the values of corresponding metrcis"
   ]
  },
  {
   "cell_type": "code",
   "execution_count": 3,
   "metadata": {},
   "outputs": [],
   "source": [
    "def label_read(csv_path, length):    \n",
    "    import csv\n",
    "    import numpy as np\n",
    "    \n",
    "    agls = []\n",
    "    with open(csv_path, 'r') as f:\n",
    "        f_reader = csv.reader(f)\n",
    "        for line in f_reader:\n",
    "            agl  = float(line[17+(length-1)*18])\n",
    "            agls.append(agl)\n",
    "    \n",
    "    return np.array(agls)\n",
    "\n",
    "def mse(y_true, y_pred):\n",
    "    import numpy as np\n",
    "    \n",
    "    return np.mean(np.square(y_true-y_pred))\n",
    "\n",
    "def rmse(y_true, y_pred):\n",
    "    import numpy as np\n",
    "    \n",
    "    return np.sqrt(np.mean(np.square(y_true-y_pred)))\n",
    "\n",
    "def mae(y_true, y_pred):\n",
    "    import numpy as np\n",
    "    \n",
    "    return np.mean(np.abs(y_true-y_pred))\n",
    "\n",
    "def r_square(y_true, y_pred):\n",
    "    import numpy as np\n",
    "    sse = np.sum(np.square(y_true-y_pred))\n",
    "    sst = np.sum(np.square(y_true-np.mean(y_true)))\n",
    "    r2  = 1 - sse/sst\n",
    "    return r2\n",
    "\n",
    "def ad_r_square(y_true, y_pred, p):\n",
    "    import numpy as np\n",
    "    sse = np.sum(np.square(y_true-y_pred))\n",
    "    sst = np.sum(np.square(y_true-np.mean(y_true)))\n",
    "    r2  = 1 - sse/sst\n",
    "    n   = y_true.shape[0]\n",
    "    return 1 - (1-r2)*(n-1)/(n-1-p)"
   ]
  },
  {
   "cell_type": "code",
   "execution_count": 5,
   "metadata": {},
   "outputs": [
    {
     "data": {
      "text/plain": [
       "[<matplotlib.lines.Line2D at 0x7f6e0e4f6510>]"
      ]
     },
     "execution_count": 5,
     "metadata": {},
     "output_type": "execute_result"
    }
   ],
   "source": [
    "csv_path  = \"/media/ubuntu16/Documents/datasets/Sonar/SIM/Track-I-II/2019-07-03-48.csv\"\n",
    "\n",
    "baseline_rmse, baseline_mae, baseline_r_square, baseline_ad_r_square = [], [], [], []\n",
    "\n",
    "for length in range(1,49):\n",
    "    y_true = label_read(csv_path, length)\n",
    "    y_pred = 0\n",
    "    p = length\n",
    "    \n",
    "    baseline_rmse.append(rmse(y_true, y_pred))\n",
    "    baseline_mae.append(mae(y_true, y_pred))\n",
    "    baseline_r_square.append(r_square(y_true, y_pred))\n",
    "    baseline_ad_r_square.append(ad_r_square(y_true, y_pred, p))"
   ]
  },
  {
   "cell_type": "code",
   "execution_count": 109,
   "metadata": {},
   "outputs": [
    {
     "name": "stdout",
     "output_type": "stream",
     "text": [
      " rmse: 0.199195749163 \n",
      " mae: 0.0895978625698 \n",
      " r2: -0.000712289456118 \n",
      " ar2: -0.000978761163063 \n",
      "\n"
     ]
    }
   ],
   "source": [
    "print(\" rmse: {} \\n mae: {} \\n r2: {} \\n ar2: {} \\n\".format( baseline_rmse[11], \n",
    "                                                                       baseline_mae[11], baseline_r_square[11],\n",
    "                                                                      baseline_ad_r_square[11]))"
   ]
  },
  {
   "cell_type": "code",
   "execution_count": 25,
   "metadata": {},
   "outputs": [
    {
     "name": "stdout",
     "output_type": "stream",
     "text": [
      "-0.00499293465107\n"
     ]
    }
   ],
   "source": [
    "r2=-0.000712289456118\n",
    "n=45078\n",
    "p=12*16\n",
    "\n",
    "print 1 - (1-r2)*(n-1)/(n-1-p)"
   ]
  },
  {
   "cell_type": "code",
   "execution_count": 110,
   "metadata": {},
   "outputs": [
    {
     "name": "stdout",
     "output_type": "stream",
     "text": [
      "45078\n",
      "48\n"
     ]
    }
   ],
   "source": [
    "print y_true.shape[0]\n",
    "print len(baseline_rmse)"
   ]
  },
  {
   "cell_type": "code",
   "execution_count": 15,
   "metadata": {},
   "outputs": [
    {
     "data": {
      "image/png": "[encoded data removed]",
      "text/plain": [
       "<Figure size 720x288 with 2 Axes>"
      ]
     },
     "metadata": {
      "needs_background": "light"
     },
     "output_type": "display_data"
    }
   ],
   "source": [
    "from matplotlib import pyplot as plt\n",
    "import numpy as np\n",
    "\n",
    "fig1, (ax11,ax12) = plt.subplots(1,2, figsize=(10,4))\n",
    "x = np.arange(1,49,1)\n",
    "ax11.plot(x, baseline_rmse)\n",
    "ax11.plot(x, baseline_mae)\n",
    "\n",
    "ax12.plot(x, baseline_r_square)\n",
    "ax12.plot(x, baseline_ad_r_square)\n",
    "\n",
    "plt.show()"
   ]
  },
  {
   "cell_type": "code",
   "execution_count": null,
   "metadata": {},
   "outputs": [],
   "source": []
  },
  {
   "cell_type": "markdown",
   "metadata": {},
   "source": [
    "==== FOR LENGTH 1 ====\n",
    "mse: 0.0394501912088, rmse: 0.198620722002, mae: 0.0890980140852\n",
    "r_square: -0.000699790050676, ad_r_square: -0.00105242074423\n",
    "==== FOR LENGTH 16 ====\n",
    "mse: 0.0395573099867, rmse: 0.198890195803, mae: 0.0893399411859\n",
    "r_square: -0.000701691518119, ad_r_square: -0.00638926385124\n",
    "==== FOR LENGTH 32 ====\n",
    "mse: 0.0395987612048, rmse: 0.198994374807, mae: 0.0894136028681\n",
    "r_square: -0.000670864849392, ad_r_square: -0.0121365352713\n",
    "==== FOR LENGTH 48 ====\n",
    "mse: 0.0396631361429, rmse: 0.199156059769, mae: 0.0895534258817\n",
    "r_square: -0.000697791798569, ad_r_square: -0.0180427082738"
   ]
  }
 ],
 "metadata": {
  "kernelspec": {
   "display_name": "Python 3",
   "language": "python",
   "name": "python3"
  },
  "language_info": {
   "codemirror_mode": {
    "name": "ipython",
    "version": 3
   },
   "file_extension": ".py",
   "mimetype": "text/x-python",
   "name": "python",
   "nbconvert_exporter": "python",
   "pygments_lexer": "ipython3",
   "version": "3.6.10"
  }
 },
 "nbformat": 4,
 "nbformat_minor": 2
}
